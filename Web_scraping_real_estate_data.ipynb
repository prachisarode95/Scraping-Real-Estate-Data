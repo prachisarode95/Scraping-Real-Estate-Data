{
  "metadata": {
    "kernelspec": {
      "name": "python",
      "display_name": "Python (Pyodide)",
      "language": "python"
    },
    "language_info": {
      "codemirror_mode": {
        "name": "python",
        "version": 3
      },
      "file_extension": ".py",
      "mimetype": "text/x-python",
      "name": "python",
      "nbconvert_exporter": "python",
      "pygments_lexer": "ipython3",
      "version": "3.8"
    }
  },
  "nbformat_minor": 5,
  "nbformat": 4,
  "cells": [
    {
      "cell_type": "markdown",
      "source": "## Scrape the data first",
      "metadata": {},
      "id": "e70ae044-1cc1-4dfc-9b1f-fb4f295ce187"
    },
    {
      "cell_type": "code",
      "source": "# Import libraries\nfrom selenium import webdriver\nfrom bs4 import BeautifulSoup\nimport pandas as pd\nfrom geopandas_view import view ",
      "metadata": {},
      "execution_count": null,
      "outputs": [],
      "id": "f83a79ef"
    },
    {
      "cell_type": "code",
      "source": "driver = webdriver.Chrome('C:\\Windows\\chromedriver.exe')",
      "metadata": {},
      "execution_count": null,
      "outputs": [],
      "id": "75f9592a"
    },
    {
      "cell_type": "code",
      "source": "prices = []\nbeds = []\nbaths = []\nsizes = []\naddresses = []\ndriver.get('https://www.realtor.com/realestateandhomes-search/New-York_NY')",
      "metadata": {},
      "execution_count": null,
      "outputs": [],
      "id": "1c7a84bf"
    },
    {
      "cell_type": "code",
      "source": "content = driver.page_source\nsoup = BeautifulSoup(content, features='html.parser')\n\nfor element in soup.findAll('li', attrs={'class':'component_property-card'}):\n    price = element.find('span', attrs={'data-label': 'pc-price'})\n    bed = element.find('li', attrs={'data-label': 'pc-meta-beds'})\n    bath = element.find('li', attrs={'data-label': 'pc-meta-baths'})\n    size = element.find('li', attrs={'data-label': 'pc-meta-sqft'})\n    address = element.find('div', attrs={'data-label': 'pc-address'})\n    \n    if bed and bath:\n        nr_beds = bed.find('span', attrs={'data-label': 'meta-value'})\n        nr_baths = bath.find('span', attrs={'data-label': 'meta-value'})\n        \n        #pre processing\n        #nr_beds.text = nr_beds.text.replace(\"+\",\"\")\n        #nr_baths.text = nr_baths.text.replace(\"+\",\"\")\n        \n        if nr_beds and float(nr_beds.text.replace(\"+\",\"\")) >= 2 and nr_baths and float(nr_baths.text.replace(\"+\",\"\")) >= 1:\n            # if nr_beds == (nr_beds + '+'):\n            #     print(float())\n            beds.append(nr_beds.text)\n            baths.append(nr_baths.text)\n            \n            if price and price.text:\n                prices.append(price.text)\n            else:\n                prices.append('No display data')\n            if size and size.text:\n                sizes.append(size.text)\n            else:\n                sizes.append('No display data')\n\n            if address and address.text:\n                addresses.append(address.text)\n            else:\n                addresses.append('No display data')",
      "metadata": {},
      "execution_count": null,
      "outputs": [],
      "id": "70f1c4d0-b203-4bb0-83ee-33bbe382f693"
    },
    {
      "cell_type": "code",
      "source": "df = pd.DataFrame({'Address': addresses, 'Price': prices, 'Beds': beds, 'Baths': baths, 'Sizes': sizes})\ndf.to_csv('listings.csv', index=False, encoding='utf-8')",
      "metadata": {},
      "execution_count": null,
      "outputs": [],
      "id": "076cd3d3-1be5-49cf-8401-ccfd3546c459"
    },
    {
      "cell_type": "code",
      "source": "# Second method of using online web scraping tool\n# Create a free web scraping API account first\n# It is optional",
      "metadata": {},
      "execution_count": null,
      "outputs": [],
      "id": "e784580e-b568-4c99-8255-43d9de7a2df8"
    },
    {
      "cell_type": "markdown",
      "source": "## Geocode the scraped data ",
      "metadata": {},
      "id": "4113aa8d-bcd9-4829-8208-571d589d0b43"
    },
    {
      "cell_type": "code",
      "source": "import pandas as pd\nimport requests\nimport json\nimport geopandas as gpd\nfrom shapely.geometry import Point",
      "metadata": {},
      "execution_count": null,
      "outputs": [],
      "id": "477747c1-d98a-4e8f-ae33-aa9e04469a27"
    },
    {
      "cell_type": "code",
      "source": "# read restaurants csv\ndf = pd.read_csv(\"listings.csv\")\ndf",
      "metadata": {},
      "execution_count": null,
      "outputs": [],
      "id": "1d6bb40f-8967-4d90-8271-992cec5d5b0e"
    },
    {
      "cell_type": "code",
      "source": "len(df)",
      "metadata": {},
      "execution_count": null,
      "outputs": [],
      "id": "6974d5dd-a819-4b3c-8976-09852c8a7308"
    },
    {
      "cell_type": "code",
      "source": "# Import geocoding tool\nfrom geopandas.tools import geocode\n\n# Geocode addresses using Nominatim. Remember to provide a custom \"application name\" in the user_agent parameter!\ngeo = geocode(df['Address'], provider='nominatim', user_agent='autogis_ps', timeout=3)",
      "metadata": {},
      "execution_count": null,
      "outputs": [],
      "id": "9579c760-53f8-481a-a7ac-89ab42127fce"
    },
    {
      "cell_type": "code",
      "source": "filtered_geo = gpd.GeoDataFrame(geo).where(lambda x : x!=None).dropna()\nfiltered_geo",
      "metadata": {},
      "execution_count": null,
      "outputs": [],
      "id": "f0008633-89b1-4e0a-9880-b4e8ed0c76b3"
    },
    {
      "cell_type": "code",
      "source": "view(filtered_geo)",
      "metadata": {
        "trusted": true
      },
      "execution_count": null,
      "outputs": [],
      "id": "ce0821d2-0892-4dee-bec8-cc6320154f04"
    }
  ]
}